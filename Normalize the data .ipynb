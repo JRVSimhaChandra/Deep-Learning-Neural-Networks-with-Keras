{
 "cells": [
  {
   "cell_type": "markdown",
   "id": "c7cbe2a8-6bbe-437d-808a-ebc20ba9250d",
   "metadata": {},
   "source": [
    "# Import necessary libraries\n",
    "import numpy as np\n",
    "import pandas as pd\n",
    "from sklearn.model_selection import train_test_split\n",
    "from sklearn.metrics import mean_squared_error\n",
    "from keras.models import Sequential\n",
    "from keras.layers import Dense\n",
    "from keras.optimizers import Adam\n",
    "\n",
    "# Function to build and train the model\n",
    "def model_olustur_ve_egit(X_egitim, y_egitim, X_test, y_test, epok=50):\n",
    "    model = Sequential()\n",
    "    model.add(Dense(10, activation='relu', input_dim=X_egitim.shape[1]))\n",
    "    model.add(Dense(1))  # Output layer for regression\n",
    "    model.compile(optimizer=Adam(), loss='mean_squared_error')\n",
    "    model.fit(X_egitim, y_egitim, epochs=epok, verbose=0)\n",
    "    y_tahmin = model.predict(X_test)\n",
    "    mse = mean_squared_error(y_test, y_tahmin)\n",
    "    return mse\n",
    "\n",
    "# Load the dataset\n",
    "data_url = 'https://cocl.us/concrete_data'\n",
    "veri = pd.read_csv(data_url)\n",
    "\n",
    "# Print column names to confirm the correct names\n",
    "print(veri.columns)\n",
    "\n",
    "# Update the column names based on the actual dataset\n",
    "X = veri.drop(columns='Strength')  # Features\n",
    "y = veri['Strength']  # Target\n",
    "\n",
    "# Normalize the data\n",
    "X_normalized = (X - X.mean()) / X.std()\n",
    "\n",
    "# List to store MSE values for normalized data\n",
    "mse_listesi_normalized = []\n",
    "\n",
    "# Perform the experiment 50 times with normalized data\n",
    "for i in range(50):\n",
    "    X_egitim, X_test, y_egitim, y_test = train_test_split(X_normalized, y, test_size=0.3, random_state=i)\n",
    "    mse = model_olustur_ve_egit(X_egitim, y_egitim, X_test, y_test)\n",
    "    mse_listesi_normalized.append(mse)\n",
    "    print(f'Iteration {i+1}: MSE (Normalized) = {mse}')\n",
    "\n",
    "# Calculate and print the mean and standard deviation of the MSE for normalized data\n",
    "ortalama_mse_normalized = np.mean(mse_listesi_normalized)\n",
    "std_mse_normalized = np.std(mse_listesi_normalized)\n",
    "\n",
    "print(f'\\nAverage Mean Squared Error (Normalized Data): {ortalama_mse_normalized}')\n",
    "print(f'Standard Deviation of MSE (Normalized Data): {std_mse_normalized}')\n"
   ]
  }
 ],
 "metadata": {
  "kernelspec": {
   "display_name": "Python",
   "language": "python",
   "name": "conda-env-python-py"
  },
  "language_info": {
   "codemirror_mode": {
    "name": "ipython",
    "version": 3
   },
   "file_extension": ".py",
   "mimetype": "text/x-python",
   "name": "python",
   "nbconvert_exporter": "python",
   "pygments_lexer": "ipython3",
   "version": "3.7.12"
  }
 },
 "nbformat": 4,
 "nbformat_minor": 5
}
